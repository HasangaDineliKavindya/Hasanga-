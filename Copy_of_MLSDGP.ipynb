{
  "cells": [
    {
      "cell_type": "markdown",
      "metadata": {
        "id": "view-in-github",
        "colab_type": "text"
      },
      "source": [
        "<a href=\"https://colab.research.google.com/github/HasangaDineliKavindya/Hasanga-/blob/main/Copy_of_MLSDGP.ipynb\" target=\"_parent\"><img src=\"https://colab.research.google.com/assets/colab-badge.svg\" alt=\"Open In Colab\"/></a>"
      ]
    },
    {
      "cell_type": "code",
      "execution_count": null,
      "metadata": {
        "id": "1mOhoM1D9fsu"
      },
      "outputs": [],
      "source": [
        "import numpy as np\n",
        "import os\n",
        "import tensorflow as tf"
      ]
    },
    {
      "cell_type": "code",
      "execution_count": null,
      "metadata": {
        "id": "kdGut-DY_g4d",
        "colab": {
          "base_uri": "https://localhost:8080/"
        },
        "outputId": "d1c0d9f4-7727-468f-c4d0-455fd8b51e9b"
      },
      "outputs": [
        {
          "output_type": "stream",
          "name": "stdout",
          "text": [
            "Mounted at /content/drive\n"
          ]
        }
      ],
      "source": [
        "from google.colab import drive\n",
        "drive.mount('/content/drive')"
      ]
    },
    {
      "cell_type": "code",
      "execution_count": null,
      "metadata": {
        "id": "lOJ9pwd39oZY"
      },
      "outputs": [],
      "source": [
        "from tensorflow.keras import layers, models\n",
        "from tensorflow.keras.preprocessing.image import ImageDataGenerator\n"
      ]
    },
    {
      "cell_type": "code",
      "execution_count": null,
      "metadata": {
        "colab": {
          "base_uri": "https://localhost:8080/"
        },
        "id": "8-XosSt79qkE",
        "outputId": "da4d9442-e084-4b44-85a4-6b94c970c6d5"
      },
      "outputs": [
        {
          "output_type": "stream",
          "name": "stdout",
          "text": [
            "Drive already mounted at /content/drive; to attempt to forcibly remount, call drive.mount(\"/content/drive\", force_remount=True).\n"
          ]
        }
      ],
      "source": [
        "drive.mount('/content/drive')\n",
        "# Set the path to the dataset\n",
        "train_dir = '/content/drive/MyDrive/ML/archive/blur_dataset_scaled'\n",
        "validation_dir = '/content/drive/MyDrive/ML/archive/blur_dataset_scaled'\n",
        "test_dir = '/content/drive/MyDrive/ML/archive/blur_dataset_scaled'"
      ]
    },
    {
      "cell_type": "code",
      "execution_count": null,
      "metadata": {
        "id": "YOXyO3JZ9w0S"
      },
      "outputs": [],
      "source": [
        "# Define image dimensions and batch size\n",
        "img_width, img_height = 224, 224\n",
        "batch_size = 32"
      ]
    },
    {
      "cell_type": "code",
      "execution_count": null,
      "metadata": {
        "id": "Sv1YVXjh98AK"
      },
      "outputs": [],
      "source": [
        "# Data preprocessing\n",
        "train_datagen = ImageDataGenerator(rescale=1./255)\n",
        "test_datagen = ImageDataGenerator(rescale=1./255)"
      ]
    },
    {
      "cell_type": "code",
      "execution_count": null,
      "metadata": {
        "colab": {
          "base_uri": "https://localhost:8080/"
        },
        "id": "huH21f0U-Ahy",
        "outputId": "d96000d2-cdc0-4c2d-8061-69426e9a4416"
      },
      "outputs": [
        {
          "output_type": "stream",
          "name": "stdout",
          "text": [
            "Found 1050 images belonging to 3 classes.\n"
          ]
        }
      ],
      "source": [
        "train_generator = train_datagen.flow_from_directory(\n",
        "    train_dir,\n",
        "    target_size=(img_width, img_height),\n",
        "    batch_size=batch_size,\n",
        "    class_mode='categorical')"
      ]
    },
    {
      "cell_type": "code",
      "execution_count": null,
      "metadata": {
        "colab": {
          "base_uri": "https://localhost:8080/"
        },
        "id": "NYHOINP_-EOC",
        "outputId": "7f41a0c5-0158-4a96-cb73-7de29f1d26d6"
      },
      "outputs": [
        {
          "output_type": "stream",
          "name": "stdout",
          "text": [
            "Found 1050 images belonging to 3 classes.\n"
          ]
        }
      ],
      "source": [
        "validation_generator = test_datagen.flow_from_directory(\n",
        "    validation_dir,\n",
        "    target_size=(img_width, img_height),\n",
        "    batch_size=batch_size,\n",
        "    class_mode='categorical')"
      ]
    },
    {
      "cell_type": "code",
      "execution_count": null,
      "metadata": {
        "colab": {
          "base_uri": "https://localhost:8080/"
        },
        "id": "43EChsFo-H0R",
        "outputId": "2b9c0783-6480-4f6d-cd2c-ddeaf162f013"
      },
      "outputs": [
        {
          "output_type": "stream",
          "name": "stdout",
          "text": [
            "Found 1050 images belonging to 3 classes.\n"
          ]
        }
      ],
      "source": [
        "test_generator = test_datagen.flow_from_directory(\n",
        "    test_dir,\n",
        "    target_size=(img_width, img_height),\n",
        "    batch_size=batch_size,\n",
        "    class_mode='categorical')"
      ]
    },
    {
      "cell_type": "code",
      "execution_count": null,
      "metadata": {
        "id": "3tZIFNMk-MXV"
      },
      "outputs": [],
      "source": [
        "# Define the CNN model architecture\n",
        "model = models.Sequential([\n",
        "    layers.Conv2D(32, (3, 3), activation='relu', input_shape=(img_width, img_height, 3)),\n",
        "    layers.MaxPooling2D((2, 2)),\n",
        "    layers.Conv2D(64, (3, 3), activation='relu'),\n",
        "    layers.MaxPooling2D((2, 2)),\n",
        "    layers.Conv2D(128, (3, 3), activation='relu'),\n",
        "    layers.MaxPooling2D((2, 2)),\n",
        "    layers.Flatten(),\n",
        "    layers.Dense(128, activation='relu'),\n",
        "    layers.Dense(3, activation='softmax')  # Three classes: motion blur, sharp, defocused blur\n",
        "])\n"
      ]
    },
    {
      "cell_type": "code",
      "execution_count": null,
      "metadata": {
        "id": "Bm59F3ZH-RH_"
      },
      "outputs": [],
      "source": [
        "# Compile the model\n",
        "model.compile(optimizer='adam',\n",
        "              loss='categorical_crossentropy',\n",
        "              metrics=['accuracy'])"
      ]
    },
    {
      "cell_type": "code",
      "execution_count": null,
      "metadata": {
        "id": "WAot9D_r-akm",
        "colab": {
          "base_uri": "https://localhost:8080/"
        },
        "outputId": "d8123b06-6b86-4d71-9bfa-f82235b35722"
      },
      "outputs": [
        {
          "output_type": "stream",
          "name": "stdout",
          "text": [
            "33/33 - 68s - loss: 0.0100 - accuracy: 0.9981 - 68s/epoch - 2s/step\n",
            "Test accuracy: 0.9980952143669128\n"
          ]
        }
      ],
      "source": [
        "# Evaluate the model on the test set\n",
        "test_loss, test_acc = model.evaluate(test_generator, verbose=2)\n",
        "print('Test accuracy:', test_acc)"
      ]
    },
    {
      "cell_type": "code",
      "execution_count": null,
      "metadata": {
        "colab": {
          "base_uri": "https://localhost:8080/"
        },
        "id": "SGMOFeS_-V9a",
        "outputId": "ee1c3344-ccc6-42e0-83e9-9d4e8a0e4684"
      },
      "outputs": [
        {
          "output_type": "stream",
          "name": "stdout",
          "text": [
            "Epoch 1/20\n",
            "32/32 [==============================] - 324s 10s/step - loss: 1.3130 - accuracy: 0.3890 - val_loss: 0.9405 - val_accuracy: 0.5146\n",
            "Epoch 2/20\n",
            "32/32 [==============================] - 240s 8s/step - loss: 0.8619 - accuracy: 0.5488 - val_loss: 0.7918 - val_accuracy: 0.6240\n",
            "Epoch 3/20\n",
            "32/32 [==============================] - 228s 7s/step - loss: 0.7467 - accuracy: 0.6415 - val_loss: 0.6855 - val_accuracy: 0.6719\n",
            "Epoch 4/20\n",
            "32/32 [==============================] - 233s 7s/step - loss: 0.6729 - accuracy: 0.6827 - val_loss: 0.6343 - val_accuracy: 0.7227\n",
            "Epoch 5/20\n",
            "32/32 [==============================] - 224s 7s/step - loss: 0.6190 - accuracy: 0.6965 - val_loss: 0.5544 - val_accuracy: 0.8027\n",
            "Epoch 6/20\n",
            "32/32 [==============================] - 222s 7s/step - loss: 0.5165 - accuracy: 0.7613 - val_loss: 0.3759 - val_accuracy: 0.8613\n",
            "Epoch 7/20\n",
            "32/32 [==============================] - 234s 7s/step - loss: 0.4148 - accuracy: 0.8291 - val_loss: 0.3399 - val_accuracy: 0.8828\n",
            "Epoch 8/20\n",
            "32/32 [==============================] - 205s 6s/step - loss: 0.3064 - accuracy: 0.8880 - val_loss: 0.2898 - val_accuracy: 0.8877\n",
            "Epoch 9/20\n",
            "32/32 [==============================] - 226s 7s/step - loss: 0.2221 - accuracy: 0.9204 - val_loss: 0.1766 - val_accuracy: 0.9502\n",
            "Epoch 10/20\n",
            "32/32 [==============================] - 204s 6s/step - loss: 0.2179 - accuracy: 0.9165 - val_loss: 0.1384 - val_accuracy: 0.9492\n",
            "Epoch 11/20\n",
            "32/32 [==============================] - 224s 7s/step - loss: 0.1241 - accuracy: 0.9587 - val_loss: 0.1036 - val_accuracy: 0.9688\n",
            "Epoch 12/20\n",
            "32/32 [==============================] - 221s 7s/step - loss: 0.1004 - accuracy: 0.9725 - val_loss: 0.0501 - val_accuracy: 0.9854\n",
            "Epoch 13/20\n",
            "32/32 [==============================] - 224s 7s/step - loss: 0.0644 - accuracy: 0.9813 - val_loss: 0.0383 - val_accuracy: 0.9922\n",
            "Epoch 14/20\n",
            "32/32 [==============================] - 206s 6s/step - loss: 0.0425 - accuracy: 0.9882 - val_loss: 0.0357 - val_accuracy: 0.9883\n",
            "Epoch 15/20\n",
            "32/32 [==============================] - 223s 7s/step - loss: 0.0887 - accuracy: 0.9784 - val_loss: 0.0663 - val_accuracy: 0.9795\n",
            "Epoch 16/20\n",
            "32/32 [==============================] - 221s 7s/step - loss: 0.1226 - accuracy: 0.9607 - val_loss: 0.0972 - val_accuracy: 0.9863\n",
            "Epoch 17/20\n",
            "32/32 [==============================] - 198s 6s/step - loss: 0.0801 - accuracy: 0.9794 - val_loss: 0.0373 - val_accuracy: 0.9912\n",
            "Epoch 18/20\n",
            "32/32 [==============================] - 209s 6s/step - loss: 0.0862 - accuracy: 0.9794 - val_loss: 0.0575 - val_accuracy: 0.9873\n",
            "Epoch 19/20\n",
            "32/32 [==============================] - 222s 7s/step - loss: 0.0465 - accuracy: 0.9892 - val_loss: 0.0286 - val_accuracy: 0.9922\n",
            "Epoch 20/20\n",
            "32/32 [==============================] - 199s 6s/step - loss: 0.0170 - accuracy: 0.9971 - val_loss: 0.0101 - val_accuracy: 0.9980\n"
          ]
        }
      ],
      "source": [
        "# Train the model\n",
        "history = model.fit(\n",
        "    train_generator,\n",
        "    steps_per_epoch=train_generator.samples // batch_size,\n",
        "    epochs=20,\n",
        "    validation_data=validation_generator,\n",
        "    validation_steps=validation_generator.samples // batch_size\n",
        ")"
      ]
    },
    {
      "cell_type": "code",
      "source": [
        "# Plot training and validation accuracy\n",
        "plt.plot(history.history['accuracy'], label='Training Accuracy')  # Plot training accuracy\n",
        "plt.plot(history.history['val_accuracy'], label='Validation Accuracy')  # Plot validation accuracy\n",
        "plt.title('Training and Validation Accuracy')  # Set title\n",
        "plt.xlabel('Epoch')  # Label x-axis\n",
        "plt.ylabel('Accuracy')  # Label y-axis\n",
        "plt.legend()  # Show legend\n",
        "plt.show()  # Show plot\n"
      ],
      "metadata": {
        "colab": {
          "base_uri": "https://localhost:8080/",
          "height": 472
        },
        "id": "pAlJ4Yi0gPc7",
        "outputId": "1a4f1122-839e-4ba7-966c-8ee477a4e94a"
      },
      "execution_count": null,
      "outputs": [
        {
          "output_type": "display_data",
          "data": {
            "text/plain": [
              "<Figure size 640x480 with 1 Axes>"
            ],
            "image/png": "[encoded data removed]"
          },
          "metadata": {}
        }
      ]
    },
    {
      "cell_type": "code",
      "source": [
        "\n",
        "\n",
        "# Plot training and validation loss\n",
        "plt.plot(history.history['loss'], label='Training Loss')\n",
        "plt.plot(history.history['val_loss'], label='Validation Loss')\n",
        "plt.title('Training and Validation Loss')\n",
        "plt.xlabel('Epoch')\n",
        "plt.ylabel('Loss')\n",
        "plt.legend()\n",
        "plt.show()"
      ],
      "metadata": {
        "colab": {
          "base_uri": "https://localhost:8080/",
          "height": 472
        },
        "id": "QN9nUEhWgQ9k",
        "outputId": "6f61e59f-87cd-44b7-c3bf-9b3901a0c7af"
      },
      "execution_count": null,
      "outputs": [
        {
          "output_type": "display_data",
          "data": {
            "text/plain": [
              "<Figure size 640x480 with 1 Axes>"
            ],
            "image/png": "[encoded data removed]"
          },
          "metadata": {}
        }
      ]
    },
    {
      "cell_type": "code",
      "source": [
        "import matplotlib.pyplot as plt"
      ],
      "metadata": {
        "id": "LYeCr30RytpG"
      },
      "execution_count": null,
      "outputs": []
    },
    {
      "cell_type": "code",
      "execution_count": null,
      "metadata": {
        "id": "NtpqudB0aR4g"
      },
      "outputs": [],
      "source": [
        "import tensorflow as tf\n",
        "\n",
        "# Define the path where you want to save the model\n",
        "saved_model_path = r'Ml.h5'\n",
        "\n",
        "# Save the model\n",
        "model.save(saved_model_path)\n",
        "\n",
        "# Load the saved model\n",
        "loaded_model = tf.keras.models.load_model(saved_model_path)\n",
        "\n"
      ]
    },
    {
      "cell_type": "code",
      "execution_count": null,
      "metadata": {
        "colab": {
          "base_uri": "https://localhost:8080/"
        },
        "id": "UQati6bu5Lcj",
        "outputId": "f2a9a07c-2f83-40a5-a638-ff3aeeb8afd5"
      },
      "outputs": [
        {
          "output_type": "stream",
          "name": "stdout",
          "text": [
            "<keras.src.engine.sequential.Sequential object at 0x7ad2c76f7b80>\n"
          ]
        }
      ],
      "source": [
        "print(loaded_model)\n",
        "\n"
      ]
    },
    {
      "cell_type": "code",
      "execution_count": null,
      "metadata": {
        "id": "J6j5JJG79lAh"
      },
      "outputs": [],
      "source": [
        "from PIL import Image"
      ]
    },
    {
      "cell_type": "code",
      "source": [
        "import matplotlib.pyplot as plt"
      ],
      "metadata": {
        "id": "YuQvZgPd9qGl"
      },
      "execution_count": null,
      "outputs": []
    },
    {
      "cell_type": "code",
      "source": [
        "def preprocess_image(image_path, target_size=(224, 224)):\n",
        "    img = Image.open(image_path)\n",
        "    img = img.resize(target_size)\n",
        "    img = np.array(img) / 255.0  # Normalize pixel values\n",
        "    img = np.expand_dims(img, axis=0)  # Add batch dimension\n",
        "    return img"
      ],
      "metadata": {
        "id": "4h6YqajP9t00"
      },
      "execution_count": null,
      "outputs": []
    },
    {
      "cell_type": "code",
      "source": [
        "def predict_and_check(image_path, threshold=0.5):\n",
        "    img = preprocess_image(image_path)\n",
        "    prediction = loaded_model.predict(img)\n",
        "    class_idx = np.argmax(prediction)\n",
        "    classes = ['Defocused Blur','Motion Blur','Sharp']\n",
        "    predicted_class = classes[class_idx]\n",
        "    confidence = prediction[0][class_idx]\n",
        "\n",
        "    # Check if the predicted class is either defocused blur or motion blur\n",
        "    if predicted_class in ['Defocused Blur', 'Motion Blur'] and confidence > threshold:\n",
        "        # If the confidence level for defocused blur or motion blur exceeds the threshold, reject the image\n",
        "        return \"Rejected\", predicted_class, confidence\n",
        "    else:\n",
        "        return \"Accepted\", predicted_class, confidence\n"
      ],
      "metadata": {
        "id": "Oooa2RVP9xYp"
      },
      "execution_count": null,
      "outputs": []
    },
    {
      "cell_type": "code",
      "source": [
        "# Input the path to your image\n",
        "image_path = '/content/drive/MyDrive/download.jpeg'"
      ],
      "metadata": {
        "id": "9ihiZjiw91L4"
      },
      "execution_count": null,
      "outputs": []
    },
    {
      "cell_type": "markdown",
      "source": [],
      "metadata": {
        "id": "v2NdrRLueA_8"
      }
    },
    {
      "cell_type": "code",
      "source": [
        "# Predict the class of the input image and check for defocused blur or motion blur\n",
        "acceptance_status, predicted_class, confidence = predict_and_check(image_path)\n"
      ],
      "metadata": {
        "colab": {
          "base_uri": "https://localhost:8080/"
        },
        "id": "Bullmr8s93aE",
        "outputId": "6fb0c880-a157-4c86-8555-164d7f9bba94"
      },
      "execution_count": null,
      "outputs": [
        {
          "output_type": "stream",
          "name": "stdout",
          "text": [
            "1/1 [==============================] - 0s 48ms/step\n"
          ]
        }
      ]
    },
    {
      "cell_type": "code",
      "source": [
        "# Display the prediction status and details\n",
        "print(\"Prediction Status:\", acceptance_status)\n",
        "print(\"Predicted Class:\", predicted_class)\n",
        "print(\"Confidence:\", confidence)"
      ],
      "metadata": {
        "colab": {
          "base_uri": "https://localhost:8080/"
        },
        "id": "wy6VDBE297sS",
        "outputId": "48f4ab56-f770-4795-f549-3c886e4684fe"
      },
      "execution_count": null,
      "outputs": [
        {
          "output_type": "stream",
          "name": "stdout",
          "text": [
            "Prediction Status: Rejected\n",
            "Predicted Class: Motion Blur\n",
            "Confidence: 0.8238058\n"
          ]
        }
      ]
    },
    {
      "cell_type": "code",
      "source": [
        "# If the image is accepted, display the input image\n",
        "if acceptance_status == \"Accepted\":\n",
        "    img = Image.open(image_path)\n",
        "    plt.imshow(img)\n",
        "    plt.axis('off')\n",
        "    plt.show()"
      ],
      "metadata": {
        "id": "kucG1t-M9_lA"
      },
      "execution_count": null,
      "outputs": []
    }
  ],
  "metadata": {
    "colab": {
      "provenance": [],
      "authorship_tag": "ABX9TyMvMx+RnKUeUsa6E72oFhh7",
      "include_colab_link": true
    },
    "kernelspec": {
      "display_name": "Python 3",
      "name": "python3"
    },
    "language_info": {
      "name": "python"
    }
  },
  "nbformat": 4,
  "nbformat_minor": 0
}